{
 "cells": [
  {
   "cell_type": "markdown",
   "metadata": {},
   "source": [
    "Thao tác trên mảng nhiều chiều :\n",
    "Viết chương trình thực hiện các yêu cầu sau :\n",
    "1. Tạo array arr có kích thước 3x3 với các giá trị True"
   ]
  },
  {
   "cell_type": "code",
   "execution_count": 1,
   "metadata": {},
   "outputs": [
    {
     "name": "stdout",
     "output_type": "stream",
     "text": [
      "arr kích thước 3x3 [[0 1 2]\n",
      " [3 4 5]\n",
      " [6 7 8]]\n"
     ]
    }
   ],
   "source": [
    "import numpy as np\n",
    "arr = np.full((3,3),True,dtype= bool)\n",
    "arr_1D = np.array([0, 1, 2, 3, 4, 5, 6, 7, 8])\n",
    "arr_2D = arr_1D.reshape((3,3))\n",
    "print('arr kích thước 3x3',arr_2D)"
   ]
  },
  {
   "cell_type": "markdown",
   "metadata": {},
   "source": [
    "2. Cho arr_1D = np.array([0 1 2 3 4 5 6 7 8]). Tạo array 2 chiều có kích thước 3x3 từ arr_ ID, và lưu vào arr_2D Trong arr_2D, chuyển cột 1 sang cột 3 và ngược lại."
   ]
  },
  {
   "cell_type": "code",
   "execution_count": 2,
   "metadata": {},
   "outputs": [
    {
     "name": "stdout",
     "output_type": "stream",
     "text": [
      "chuyển cột 1 sang cột 3 và ngược lại: [[2 1 0]\n",
      " [5 4 3]\n",
      " [8 7 6]]\n"
     ]
    }
   ],
   "source": [
    "column1 = list(arr_2D[:,0])\n",
    "arr_2D[:,0] = arr_2D[:,2]\n",
    "arr_2D[:,2] = column1\n",
    "print('chuyển cột 1 sang cột 3 và ngược lại:',arr_2D)"
   ]
  },
  {
   "cell_type": "markdown",
   "metadata": {},
   "source": [
    "3. Từ arr_2D của câu 2 (sau khi đổi thứ tự cột), chuyển dòng 1 sang dòng 2 và ngược lại."
   ]
  },
  {
   "cell_type": "code",
   "execution_count": 3,
   "metadata": {},
   "outputs": [
    {
     "name": "stdout",
     "output_type": "stream",
     "text": [
      "chuyển dòng 1 sang dòng 2 và ngược lại: [[5 4 3]\n",
      " [2 1 0]\n",
      " [8 7 6]]\n"
     ]
    }
   ],
   "source": [
    "row1 = list(arr_2D[0,:])\n",
    "arr_2D[0,:] = arr_2D[1,:]\n",
    "arr_2D[1,:] = row1\n",
    "print('chuyển dòng 1 sang dòng 2 và ngược lại:',arr_2D)"
   ]
  },
  {
   "cell_type": "markdown",
   "metadata": {},
   "source": [
    "4. Từ arr_2D của câu 3, đảo ngược các dòng của arr_2D."
   ]
  },
  {
   "cell_type": "code",
   "execution_count": 4,
   "metadata": {},
   "outputs": [
    {
     "name": "stdout",
     "output_type": "stream",
     "text": [
      "đảo ngược các dòng của arr_2D: [[8 7 6]\n",
      " [2 1 0]\n",
      " [5 4 3]]\n"
     ]
    }
   ],
   "source": [
    "arr_2D = arr_2D[::-1,::1]\n",
    "print('đảo ngược các dòng của arr_2D:',arr_2D)"
   ]
  },
  {
   "cell_type": "markdown",
   "metadata": {},
   "source": [
    "5. Từ arr_2D của câu 4, đảo ngược các cột của arr_2D."
   ]
  },
  {
   "cell_type": "code",
   "execution_count": 5,
   "metadata": {},
   "outputs": [
    {
     "name": "stdout",
     "output_type": "stream",
     "text": [
      "đảo ngược các cột của arr_2D [[6 7 8]\n",
      " [0 1 2]\n",
      " [3 4 5]]\n"
     ]
    }
   ],
   "source": [
    "arr_2D = arr_2D[::1,::-1]\n",
    "print('đảo ngược các cột của arr_2D',arr_2D)\n"
   ]
  },
  {
   "cell_type": "markdown",
   "metadata": {},
   "source": [
    "6. Cho arr_ 2D_null = np.array([[1, 2, 3], [np.NaN, 5, 61, [7, np.NaN, 9], [4, 5, 6]]),\n",
    "Kiểm tra trong array có giá trị rống không?"
   ]
  },
  {
   "cell_type": "code",
   "execution_count": 6,
   "metadata": {},
   "outputs": [
    {
     "name": "stdout",
     "output_type": "stream",
     "text": [
      "có giá trị rỗng\n"
     ]
    }
   ],
   "source": [
    "arr_2D_null = np.array([[1, 2, 3], [np.NaN, 5, 6], [7, np.NaN, 9], [4, 5, 6]])\n",
    "if np.isnan(arr_2D_null).any() :\n",
    "    print('có giá trị rỗng')\n",
    "else:\n",
    "    print('không có giá trị rỗng')"
   ]
  },
  {
   "cell_type": "markdown",
   "metadata": {},
   "source": [
    "7. Từ arr_2D_ null của câu 6, thay thế giá trị null bằng 0."
   ]
  },
  {
   "cell_type": "code",
   "execution_count": 7,
   "metadata": {},
   "outputs": [
    {
     "name": "stdout",
     "output_type": "stream",
     "text": [
      "sau khi thay thế [[1. 2. 3.]\n",
      " [0. 5. 6.]\n",
      " [7. 0. 9.]\n",
      " [4. 5. 6.]]\n"
     ]
    }
   ],
   "source": [
    "arr_2D_no_null = np.nan_to_num(arr_2D_null)\n",
    "print('sau khi thay thế',arr_2D_no_null)"
   ]
  }
 ],
 "metadata": {
  "kernelspec": {
   "display_name": "base",
   "language": "python",
   "name": "python3"
  },
  "language_info": {
   "codemirror_mode": {
    "name": "ipython",
    "version": 3
   },
   "file_extension": ".py",
   "mimetype": "text/x-python",
   "name": "python",
   "nbconvert_exporter": "python",
   "pygments_lexer": "ipython3",
   "version": "3.12.4"
  }
 },
 "nbformat": 4,
 "nbformat_minor": 2
}
