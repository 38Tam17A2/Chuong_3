{
 "cells": [
  {
   "cell_type": "markdown",
   "metadata": {},
   "source": [
    "Bài 3.3. Cho 2 array arr _a = [1,2,3,2,3,4,3,4,5,6] và arr_ b = [7,2,10,2,7,4,9,4,9,8], thực hiện các yêu cầu sau :\n",
    "1. Tạo array arr _c chỉ lấy duy nhất các phần tử xuất hiện ở cả arr _ a và arr_ b.\n",
    "2. Từ arr _a và arr_b ở câu 1 →> Tạo arr _d chưa các phân tử chỉ xuất hiện ở arr a.\n",
    "3. Cho arr_e - np.array([2, 6, 1, 9, 10, 3, 27, 8, 6, 25, 161), hãy tạo art_ f chỉ chứa các phần tử có giá trị từ 5 đến 10 của arr_ e."
   ]
  },
  {
   "cell_type": "code",
   "execution_count": 1,
   "metadata": {},
   "outputs": [
    {
     "name": "stdout",
     "output_type": "stream",
     "text": [
      "[2 2 4 4]\n",
      "[1 3 5 6]\n",
      "[ 6  9 10  8  6]\n"
     ]
    }
   ],
   "source": [
    "import numpy as np\n",
    "arr_a =np.array ([1,2,3,2,3,4,3,4,5,6])\n",
    "arr_b =np.array ([7,2,10,2,7,4,9,4,9,8])\n",
    "#1\n",
    "a=[i for i in arr_a if i in arr_b]\n",
    "arr_c = np.array(a)\n",
    "print(arr_c)\n",
    "#2\n",
    "arr_d = np.array(list(set(arr_a)- set(arr_b)))\n",
    "print(arr_d)\n",
    "#3\n",
    "arr_e = np.array([2, 6, 1, 9, 10, 3, 27, 8, 6, 25, 16])\n",
    "arr_f = np.array([i for i in arr_e if i>=5 and i<=10])\n",
    "print(arr_f)"
   ]
  }
 ],
 "metadata": {
  "kernelspec": {
   "display_name": "base",
   "language": "python",
   "name": "python3"
  },
  "language_info": {
   "codemirror_mode": {
    "name": "ipython",
    "version": 3
   },
   "file_extension": ".py",
   "mimetype": "text/x-python",
   "name": "python",
   "nbconvert_exporter": "python",
   "pygments_lexer": "ipython3",
   "version": "3.12.4"
  }
 },
 "nbformat": 4,
 "nbformat_minor": 2
}
