{
 "cells": [
  {
   "cell_type": "markdown",
   "metadata": {},
   "source": [
    "Viết chương trình với các yêu cầu sau :\n",
    "1. Tạo arr_ zeros có 10 phần tử 0, cập nhật phần tử ở vị trí thứ 5 là 1."
   ]
  },
  {
   "cell_type": "code",
   "execution_count": 1,
   "metadata": {},
   "outputs": [
    {
     "name": "stdout",
     "output_type": "stream",
     "text": [
      "[0 0 0 0 1]\n"
     ]
    }
   ],
   "source": [
    "import numpy as np\n",
    "arr_zeros=np.zeros(5,dtype=int)\n",
    "arr_zeros[4]=1\n",
    "print(arr_zeros)"
   ]
  },
  {
   "cell_type": "markdown",
   "metadata": {},
   "source": [
    "2. Tạo arr h có giá trị từ 10 đến 24. In danh sách các phần tử theo tứ tự đảo ngược của art _h."
   ]
  },
  {
   "cell_type": "code",
   "execution_count": 2,
   "metadata": {},
   "outputs": [
    {
     "name": "stdout",
     "output_type": "stream",
     "text": [
      "[24 23 22 21 20 19 18 17 16 15 14 13 12 11 10]\n"
     ]
    }
   ],
   "source": [
    "arr_h=np.arange(10,25)\n",
    "print(arr_h[::-1])"
   ]
  },
  {
   "cell_type": "markdown",
   "metadata": {},
   "source": [
    "3. Cho arr _k = np.array([1, 2, 0, 8, 2, 0, 1, 3, 0, 5, 01), tạo art _1 từ art _k với các phần tử khác 0."
   ]
  },
  {
   "cell_type": "code",
   "execution_count": 3,
   "metadata": {},
   "outputs": [
    {
     "name": "stdout",
     "output_type": "stream",
     "text": [
      "[1 2 8 2 1 3 5]\n"
     ]
    }
   ],
   "source": [
    "arr_k=np.array([1,2,0,8,2,0,1,3,0,5,0])\n",
    "arr_l=np.array([i for i in arr_k if i!=0])\n",
    "print(arr_l)"
   ]
  },
  {
   "cell_type": "markdown",
   "metadata": {},
   "source": [
    "4. Từ arr_1 của câu 3, thêm 2 phần tử có giá trị là 10 và 20 vào cuối array."
   ]
  },
  {
   "cell_type": "code",
   "execution_count": 4,
   "metadata": {},
   "outputs": [
    {
     "name": "stdout",
     "output_type": "stream",
     "text": [
      "[ 1  2  8  2  1  3  5 10 20]\n"
     ]
    }
   ],
   "source": [
    "arr_4=np.append(arr_l,10)\n",
    "arr_4=np.append(arr_4,20)\n",
    "print(arr_4)"
   ]
  },
  {
   "cell_type": "markdown",
   "metadata": {},
   "source": [
    "5. Từ array của câu 4, thêm phần tử có giá trị 100 vào vị trí có index = 5."
   ]
  },
  {
   "cell_type": "code",
   "execution_count": 5,
   "metadata": {},
   "outputs": [
    {
     "name": "stdout",
     "output_type": "stream",
     "text": [
      "[  1   2   8   2   1 100   3   5  10  20]\n"
     ]
    }
   ],
   "source": [
    "arr_5=np.insert(arr_4,5,100)\n",
    "print(arr_5)"
   ]
  },
  {
   "cell_type": "markdown",
   "metadata": {},
   "source": [
    "6. Từ array của câu 5, xóa các phần tử tại vị trí có index = 0, 1, 2."
   ]
  },
  {
   "cell_type": "code",
   "execution_count": 6,
   "metadata": {},
   "outputs": [
    {
     "name": "stdout",
     "output_type": "stream",
     "text": [
      "[  2   1 100   3   5  10  20]\n"
     ]
    }
   ],
   "source": [
    "arr_6=np.delete(arr_5,[0,1,2])\n",
    "print(arr_6)"
   ]
  }
 ],
 "metadata": {
  "kernelspec": {
   "display_name": "base",
   "language": "python",
   "name": "python3"
  },
  "language_info": {
   "codemirror_mode": {
    "name": "ipython",
    "version": 3
   },
   "file_extension": ".py",
   "mimetype": "text/x-python",
   "name": "python",
   "nbconvert_exporter": "python",
   "pygments_lexer": "ipython3",
   "version": "3.12.4"
  }
 },
 "nbformat": 4,
 "nbformat_minor": 2
}
